{
 "cells": [
  {
   "cell_type": "code",
   "execution_count": 1,
   "metadata": {},
   "outputs": [],
   "source": [
    "import time\n",
    "import numpy as np\n",
    "import matplotlib.pylab as plt\n",
    "from nyu_finger import NYUFingerReal\n",
    "from IPython.display import display, clear_output\n",
    "\n",
    "np.set_printoptions(suppress=True, precision=3)"
   ]
  },
  {
   "cell_type": "code",
   "execution_count": 2,
   "metadata": {},
   "outputs": [],
   "source": [
    "robot = NYUFingerReal()\n",
    "robot.initialize('eno1')"
   ]
  },
  {
   "cell_type": "code",
   "execution_count": 3,
   "metadata": {},
   "outputs": [],
   "source": [
    "def move_to_start_position(q0, v0, q, v):\n",
    "    '''\n",
    "    This function moves the robot to the initial position to start experiments\n",
    "    '''\n",
    "    \n",
    "    P = 2.0\n",
    "    D = 0.05\n",
    "\n",
    "    des_pos = q0\n",
    "    des_vel = v0\n",
    "\n",
    "    des_init_pos = np.array([np.pi, np.pi/3.0, np.pi/2.0])\n",
    "    \n",
    "    has_reached_start_position = False\n",
    "\n",
    "    if abs(q[0]) < abs(des_init_pos[0]) and abs(des_pos[0]) < abs(des_init_pos[0]):\n",
    "        des_pos[0] -= (0.05/180.0)*np.pi\n",
    "    elif abs(q[1]) < abs(des_init_pos[1]) and abs(des_pos[1]) < abs(des_init_pos[1]):\n",
    "        des_pos[1] -= (0.05/180.0)*np.pi\n",
    "    elif abs(q[2]) < abs(des_init_pos[2]) and abs(des_pos[2]) < abs(des_init_pos[2]):\n",
    "        des_pos[2] += (0.05/180.0)*np.pi\n",
    "    else:\n",
    "        has_reached_start_position = True\n",
    "\n",
    "    tau = P * (des_pos - q) + D * (des_vel - v)        \n",
    "\n",
    "    return tau, has_reached_start_position\n",
    "    "
   ]
  },
  {
   "cell_type": "code",
   "execution_count": null,
   "metadata": {},
   "outputs": [],
   "source": [
    "q0, v0 = robot.get_state()\n",
    "has_reached_start_position = False\n",
    "\n",
    "while True:\n",
    "\n",
    "    q, v = robot.get_state()\n",
    "\n",
    "    if not has_reached_start_position:\n",
    "        tau, has_reached_start_position = move_to_start_position(q0, v0, q, v)\n",
    "    else:\n",
    "        ## write code \n",
    "        tau = np.zeros(3)\n",
    "    \n",
    "    robot.send_joint_torque(tau)\n",
    "    robot.step()\n"
   ]
  },
  {
   "cell_type": "code",
   "execution_count": null,
   "metadata": {},
   "outputs": [],
   "source": []
  }
 ],
 "metadata": {
  "kernelspec": {
   "display_name": "Python 2",
   "language": "python",
   "name": "python2"
  },
  "language_info": {
   "codemirror_mode": {
    "name": "ipython",
    "version": 2
   },
   "file_extension": ".py",
   "mimetype": "text/x-python",
   "name": "python",
   "nbconvert_exporter": "python",
   "pygments_lexer": "ipython2",
   "version": "2.7.12"
  }
 },
 "nbformat": 4,
 "nbformat_minor": 2
}